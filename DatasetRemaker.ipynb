{
 "cells": [
  {
   "attachments": {},
   "cell_type": "markdown",
   "metadata": {},
   "source": [
    "This was a method that I was testing. !! It is not necessary for functionality of the current generation of The Scot Bot !!"
   ]
  },
  {
   "attachments": {},
   "cell_type": "markdown",
   "metadata": {},
   "source": [
    "Start by creating a csv file for the new dataset"
   ]
  },
  {
   "cell_type": "code",
   "execution_count": 1,
   "metadata": {},
   "outputs": [],
   "source": [
    "file = open('NewDataset.csv', 'a', newline ='') "
   ]
  },
  {
   "attachments": {},
   "cell_type": "markdown",
   "metadata": {},
   "source": [
    "Import required libraries"
   ]
  },
  {
   "cell_type": "code",
   "execution_count": 2,
   "metadata": {},
   "outputs": [],
   "source": [
    "import pandas as pd\n",
    "import csv"
   ]
  },
  {
   "attachments": {},
   "cell_type": "markdown",
   "metadata": {},
   "source": [
    "Read in the previous created dataset"
   ]
  },
  {
   "cell_type": "code",
   "execution_count": 3,
   "metadata": {},
   "outputs": [],
   "source": [
    "# read CSV file\n",
    "df1 = pd.read_csv('SyllabiDataset.csv', encoding='cp1252')"
   ]
  },
  {
   "attachments": {},
   "cell_type": "markdown",
   "metadata": {},
   "source": [
    "Name the columns for indexing"
   ]
  },
  {
   "cell_type": "code",
   "execution_count": 5,
   "metadata": {},
   "outputs": [],
   "source": [
    "df1.columns = ['Passage', 'Department','Number','Name','Professor', 'Year','QA1', 'A1', 'K1','QA2', 'A2', 'K2','QA3', 'A3', 'K3']"
   ]
  },
  {
   "attachments": {},
   "cell_type": "markdown",
   "metadata": {},
   "source": [
    "Split the question and answer pairs for fine tuning purposes"
   ]
  },
  {
   "cell_type": "code",
   "execution_count": 6,
   "metadata": {},
   "outputs": [],
   "source": [
    "for x in range(0,len(df1)):\n",
    "    fieldnames = ['text', 'Question', 'Answer']\n",
    "    writer = csv.DictWriter(file, fieldnames=fieldnames)\n",
    "    writer.writerow({'text': df1.loc[x,\"Passage\"], 'Question': (df1.loc[x,\"QA1\"].replace(\"Question:\", '').replace(\"Q1:\", '').replace(\"Q:\", '').replace(\"Question 1:\", '')), 'Answer': (df1.loc[x,\"A1\"].replace('Answer:', ''))})\n",
    "    writer.writerow({'text': df1.loc[x,\"Passage\"], 'Question': (df1.loc[x,\"QA2\"].replace(\"Question:\", '').replace(\"Q2:\", '').replace(\"Q:\", '').replace(\"Question 2:\", '')), 'Answer': (df1.loc[x,\"A2\"].replace('Answer:', ''))})\n",
    "    writer.writerow({'text': df1.loc[x,\"Passage\"], 'Question': (df1.loc[x,\"QA3\"].replace(\"Question:\", '').replace(\"Q3:\", '').replace(\"Q:\", '').replace(\"Question 3:\", '')), 'Answer': (df1.loc[x,\"A3\"].replace('Answer:', ''))})"
   ]
  }
 ],
 "metadata": {
  "kernelspec": {
   "display_name": "Python 3",
   "language": "python",
   "name": "python3"
  },
  "language_info": {
   "codemirror_mode": {
    "name": "ipython",
    "version": 3
   },
   "file_extension": ".py",
   "mimetype": "text/x-python",
   "name": "python",
   "nbconvert_exporter": "python",
   "pygments_lexer": "ipython3",
   "version": "3.11.1"
  },
  "orig_nbformat": 4,
  "vscode": {
   "interpreter": {
    "hash": "7acf0e7c55703b1d62125093779d76af3b1e04738383ec7b3594d323472f8b38"
   }
  }
 },
 "nbformat": 4,
 "nbformat_minor": 2
}
